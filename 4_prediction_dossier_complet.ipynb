{
 "cells": [
  {
   "cell_type": "code",
   "execution_count": 1,
   "id": "67def229",
   "metadata": {},
   "outputs": [],
   "source": [
    "import os\n",
    "import tensorflow as tf\n",
    "from keras.applications.vgg16 import preprocess_input\n",
    "import numpy as np"
   ]
  },
  {
   "cell_type": "code",
   "execution_count": 2,
   "id": "afae5f2a",
   "metadata": {},
   "outputs": [],
   "source": [
    "mymodel=tf.keras.models.load_model('CNN_doc_scientifique.h5')"
   ]
  },
  {
   "cell_type": "code",
   "execution_count": 3,
   "id": "794b643e",
   "metadata": {},
   "outputs": [],
   "source": [
    "def labelisemonimage2(nom_image):\n",
    "    image = tf.keras.utils.load_img(nom_image, target_size=(100, 100))\n",
    "    image = tf.keras.utils.img_to_array(image)\n",
    "    image = image.reshape((1, image.shape[0], image.shape[1], image.shape[2]))\n",
    "    image = preprocess_input(image)\n",
    "    prediction = mymodel.predict(image,verbose=0)\n",
    "    return(np.argmax(prediction))"
   ]
  },
  {
   "cell_type": "code",
   "execution_count": null,
   "id": "f25e5e9b",
   "metadata": {},
   "outputs": [],
   "source": []
  },
  {
   "cell_type": "code",
   "execution_count": 4,
   "id": "c308747b",
   "metadata": {},
   "outputs": [],
   "source": [
    "dossier='JPG prevision'"
   ]
  },
  {
   "cell_type": "code",
   "execution_count": 5,
   "id": "d33b490a",
   "metadata": {},
   "outputs": [],
   "source": [
    "from os import listdir\n",
    "from os.path import isfile, join\n",
    "fichiers = [f for f in listdir(dossier) if isfile(join(dossier, f))]"
   ]
  },
  {
   "cell_type": "code",
   "execution_count": 6,
   "id": "35caeb66",
   "metadata": {},
   "outputs": [],
   "source": [
    "listedocument=[]\n",
    "result=0\n",
    "resultlabel=0\n",
    "listeresult=[]\n",
    "nb_page=-1\n",
    "\n",
    "nom_prem_document=fichiers[0].split('page',1)\n",
    "nom_prem_document[0]\n",
    "listedocument.append(nom_prem_document[0])\n",
    "for doc in fichiers:\n",
    "    nom_document=doc.split('page')[0]\n",
    "    resultlabel=labelisemonimage2(dossier+'/'+doc)\n",
    "    nb_page=nb_page+1\n",
    "    \n",
    "   \n",
    "    if nom_document!=listedocument[-1]:\n",
    "        #print (result)\n",
    "        #print (nb_page)\n",
    "        result=int(result)/(nb_page)\n",
    "\n",
    "        listeresult.append(result)\n",
    "        listedocument.append(nom_document)\n",
    "        result=resultlabel\n",
    "        result=resultlabel\n",
    "        nb_page=0\n",
    "    else :\n",
    "        result=result+resultlabel\n",
    "listeresult.append(result/nb_page)  \n",
    "    "
   ]
  },
  {
   "cell_type": "code",
   "execution_count": 7,
   "id": "d2df2e26",
   "metadata": {},
   "outputs": [
    {
     "name": "stdout",
     "output_type": "stream",
     "text": [
      "Le fichier10 est un pdf sans interet probabilité de : 50.0 %\n",
      "Le fichier12 est un pdf sans interet probabilité de : 85.71428571428572 %\n",
      "Le fichier13 est un Doc Scientifique probabilité de : 76.92307692307693 %\n",
      "Le fichier14 est un Doc Scientifique probabilité de : 66.66666666666666 %\n",
      "Le fichier1 est un Doc Scientifique probabilité de : 78.16901408450704 %\n",
      "Le fichier2 est un pdf sans interet probabilité de : 94.11764705882352 %\n",
      "Le fichier3 est un pdf sans interet probabilité de : 85.71428571428572 %\n",
      "Le fichier4 est un pdf sans interet probabilité de : 53.125 %\n",
      "Le fichier5 est un Doc Scientifique probabilité de : 82.79569892473118 %\n",
      "Le fichier6 est un Doc Scientifique probabilité de : 75.0 %\n",
      "Le fichier7 est un Doc Scientifique probabilité de : 94.36619718309859 %\n",
      "Le fichier8 est un Doc Scientifique probabilité de : 66.66666666666666 %\n"
     ]
    }
   ],
   "source": [
    "i=0\n",
    "for doc in listedocument:\n",
    "    if listeresult[i]>0.5:\n",
    "        res='Doc Scientifique'\n",
    "        proba=listeresult[i]*100\n",
    "    else:\n",
    "        res=\"pdf sans interet\"\n",
    "        proba=(1-listeresult[i])*100\n",
    "    print(\"Le \"+doc+\" est un \"+res+\" probabilité de : \"+str(proba)+\" %\")\n",
    "    i=i+1"
   ]
  },
  {
   "cell_type": "code",
   "execution_count": null,
   "id": "27bd742f",
   "metadata": {},
   "outputs": [],
   "source": []
  },
  {
   "cell_type": "code",
   "execution_count": null,
   "id": "3afab4a5",
   "metadata": {},
   "outputs": [],
   "source": []
  },
  {
   "cell_type": "code",
   "execution_count": null,
   "id": "90b94dcb",
   "metadata": {},
   "outputs": [],
   "source": []
  },
  {
   "cell_type": "code",
   "execution_count": null,
   "id": "8a876b18",
   "metadata": {},
   "outputs": [],
   "source": []
  }
 ],
 "metadata": {
  "kernelspec": {
   "display_name": "Python 3 (ipykernel)",
   "language": "python",
   "name": "python3"
  },
  "language_info": {
   "codemirror_mode": {
    "name": "ipython",
    "version": 3
   },
   "file_extension": ".py",
   "mimetype": "text/x-python",
   "name": "python",
   "nbconvert_exporter": "python",
   "pygments_lexer": "ipython3",
   "version": "3.9.16"
  }
 },
 "nbformat": 4,
 "nbformat_minor": 5
}
