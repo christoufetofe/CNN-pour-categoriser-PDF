{
 "cells": [
  {
   "cell_type": "code",
   "execution_count": 1,
   "id": "22ae9b55",
   "metadata": {},
   "outputs": [],
   "source": [
    "#!pip install pdf2image"
   ]
  },
  {
   "cell_type": "code",
   "execution_count": null,
   "id": "40f0fbc9",
   "metadata": {},
   "outputs": [],
   "source": [
    "#Le but de ce programme est de convertir les pdf d'un dossier en images JPG dans un autre dossier\n",
    "#Pour cela on choisit un dossier contenant des PDF\n",
    "#On récupere les PDFs\n",
    "#on les convertis"
   ]
  },
  {
   "cell_type": "code",
   "execution_count": 2,
   "id": "840c061f",
   "metadata": {},
   "outputs": [],
   "source": [
    "#Récupere la liste des fichiers dans un dossier"
   ]
  },
  {
   "cell_type": "code",
   "execution_count": 3,
   "id": "bd858b68",
   "metadata": {},
   "outputs": [],
   "source": [
    "#dossier=> nom du dossier contenant les PDF\n",
    "#dossiersortie=>nom du dossier ou iront les fichier JPEG générés\n",
    "dossier='téléchargement PDF'\n",
    "dossiersortie='JPG prevision'"
   ]
  },
  {
   "cell_type": "code",
   "execution_count": null,
   "id": "1664b4e9",
   "metadata": {},
   "outputs": [],
   "source": []
  },
  {
   "cell_type": "code",
   "execution_count": 4,
   "id": "ef43fb75",
   "metadata": {},
   "outputs": [],
   "source": [
    "from os import listdir\n",
    "from os.path import isfile, join\n",
    "fichiers = [f for f in listdir(dossier) if isfile(join(dossier, f))]"
   ]
  },
  {
   "cell_type": "code",
   "execution_count": 5,
   "id": "3d15dba3",
   "metadata": {},
   "outputs": [
    {
     "data": {
      "text/plain": [
       "['fichier1.pdf',\n",
       " 'fichier10.pdf',\n",
       " 'fichier12.pdf',\n",
       " 'fichier13.pdf',\n",
       " 'fichier14.pdf',\n",
       " 'fichier2.pdf',\n",
       " 'fichier3.pdf',\n",
       " 'fichier4.pdf',\n",
       " 'fichier5.pdf',\n",
       " 'fichier6.pdf',\n",
       " 'fichier7.pdf',\n",
       " 'fichier8.pdf']"
      ]
     },
     "execution_count": 5,
     "metadata": {},
     "output_type": "execute_result"
    }
   ],
   "source": [
    "fichiers"
   ]
  },
  {
   "cell_type": "code",
   "execution_count": 6,
   "id": "4eb154bf",
   "metadata": {},
   "outputs": [],
   "source": [
    "listepdf=[]\n",
    "for doc in fichiers:\n",
    "    t=doc.split('.pdf')\n",
    "\n",
    "    listepdf.append(t[0])"
   ]
  },
  {
   "cell_type": "code",
   "execution_count": 7,
   "id": "2adcc37e",
   "metadata": {},
   "outputs": [
    {
     "data": {
      "text/plain": [
       "['fichier1',\n",
       " 'fichier10',\n",
       " 'fichier12',\n",
       " 'fichier13',\n",
       " 'fichier14',\n",
       " 'fichier2',\n",
       " 'fichier3',\n",
       " 'fichier4',\n",
       " 'fichier5',\n",
       " 'fichier6',\n",
       " 'fichier7',\n",
       " 'fichier8']"
      ]
     },
     "execution_count": 7,
     "metadata": {},
     "output_type": "execute_result"
    }
   ],
   "source": [
    "listepdf"
   ]
  },
  {
   "cell_type": "code",
   "execution_count": null,
   "id": "7558cce8",
   "metadata": {},
   "outputs": [
    {
     "name": "stdout",
     "output_type": "stream",
     "text": [
      "fichier1\n",
      "fichier10\n",
      "fichier12\n",
      "fichier13\n",
      "fichier14\n",
      "fichier2\n",
      "fichier3\n",
      "fichier4\n",
      "fichier5\n",
      "fichier6\n"
     ]
    }
   ],
   "source": [
    "#Traitement d'un dossier complet\n",
    "from pdf2image import convert_from_path\n",
    "for doc in listepdf:\n",
    "    images = convert_from_path(dossier+'/'+doc+'.pdf')\n",
    " \n",
    "    for i in range(len(images)):\n",
    "\n",
    "        # Save pages as images in the pdf\n",
    "        images[i].save(dossiersortie+'/'+doc+'page'+ str(i) +'.jpg', 'JPEG')\n",
    "    print(doc)"
   ]
  },
  {
   "cell_type": "code",
   "execution_count": null,
   "id": "f624e63f",
   "metadata": {},
   "outputs": [],
   "source": []
  },
  {
   "cell_type": "code",
   "execution_count": null,
   "id": "6deee3e3",
   "metadata": {},
   "outputs": [],
   "source": []
  },
  {
   "cell_type": "code",
   "execution_count": null,
   "id": "f355aba5",
   "metadata": {},
   "outputs": [],
   "source": []
  }
 ],
 "metadata": {
  "kernelspec": {
   "display_name": "Python 3 (ipykernel)",
   "language": "python",
   "name": "python3"
  },
  "language_info": {
   "codemirror_mode": {
    "name": "ipython",
    "version": 3
   },
   "file_extension": ".py",
   "mimetype": "text/x-python",
   "name": "python",
   "nbconvert_exporter": "python",
   "pygments_lexer": "ipython3",
   "version": "3.9.12"
  }
 },
 "nbformat": 4,
 "nbformat_minor": 5
}
