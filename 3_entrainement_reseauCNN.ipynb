{
 "cells": [
  {
   "cell_type": "code",
   "execution_count": null,
   "id": "ed706de1",
   "metadata": {},
   "outputs": [],
   "source": [
    "#Ce programme permet d'entrainer notre model sur notre propre dataset\n",
    "#Notre model sera basé sur un modele CNN VGG16"
   ]
  },
  {
   "cell_type": "code",
   "execution_count": null,
   "id": "3461a013",
   "metadata": {},
   "outputs": [],
   "source": []
  },
  {
   "cell_type": "code",
   "execution_count": null,
   "id": "bd547a9e",
   "metadata": {},
   "outputs": [],
   "source": []
  },
  {
   "cell_type": "code",
   "execution_count": 1,
   "id": "a2ba6f96",
   "metadata": {},
   "outputs": [],
   "source": [
    "#!pip install scikit-image"
   ]
  },
  {
   "cell_type": "code",
   "execution_count": 2,
   "id": "090c9761",
   "metadata": {},
   "outputs": [],
   "source": [
    "#!pip install SciPy"
   ]
  },
  {
   "cell_type": "code",
   "execution_count": 3,
   "id": "85f2b36c",
   "metadata": {},
   "outputs": [],
   "source": [
    "#!pip install h5py"
   ]
  },
  {
   "cell_type": "code",
   "execution_count": 4,
   "id": "cd4993b7",
   "metadata": {},
   "outputs": [],
   "source": [
    "import scipy\n",
    "import tensorflow as tf"
   ]
  },
  {
   "cell_type": "code",
   "execution_count": 8,
   "id": "4c95c612",
   "metadata": {},
   "outputs": [],
   "source": [
    "import numpy as np\n",
    "import pandas as pd\n",
    "from glob import glob\n",
    "import os\n",
    " \n",
    "from keras.layers import Input, Lambda, Dense, Flatten\n",
    "from keras.models import Model\n",
    "from keras.applications.vgg16 import VGG16\n",
    "from keras.applications.vgg16 import preprocess_input\n",
    "from keras.preprocessing import image\n",
    "from keras.preprocessing.image import ImageDataGenerator\n",
    "from tensorflow.keras.callbacks import EarlyStopping\n",
    " \n",
    "import numpy as np\n",
    "import matplotlib.pyplot as plt\n",
    "from skimage.io import imread, imshow"
   ]
  },
  {
   "cell_type": "code",
   "execution_count": null,
   "id": "fa62ce6b",
   "metadata": {},
   "outputs": [],
   "source": [
    "#Définition de la taille de l'image\n",
    "#src_path_train = \"input\"   => Indiquer le nom du dossier contenant le dataset d'entrainement\n",
    "#src_path_test = \"input test\"  => Indiquer le nom du dossier contenant le dataset de test\n"
   ]
  },
  {
   "cell_type": "code",
   "execution_count": 9,
   "id": "92e1e5e4",
   "metadata": {},
   "outputs": [],
   "source": [
    "IMSIZE=[100,100]\n",
    "\n",
    "src_path_train = \"input\"\n",
    "src_path_test = \"input test\"\n",
    "batch_size = 32"
   ]
  },
  {
   "cell_type": "code",
   "execution_count": null,
   "id": "6f72f9ad",
   "metadata": {},
   "outputs": [],
   "source": [
    "#Récuperation du dataset de train et de test"
   ]
  },
  {
   "cell_type": "code",
   "execution_count": 10,
   "id": "46f32582",
   "metadata": {},
   "outputs": [
    {
     "name": "stdout",
     "output_type": "stream",
     "text": [
      "Found 5996 images belonging to 2 classes.\n",
      "Found 638 images belonging to 2 classes.\n"
     ]
    }
   ],
   "source": [
    "\n",
    " \n",
    "image_gen = ImageDataGenerator(\n",
    "        rescale=1 / 255.0,\n",
    "        rotation_range=20,\n",
    "        zoom_range=0.05,\n",
    "        width_shift_range=0.05,\n",
    "        height_shift_range=0.05,\n",
    "        shear_range=0.05,\n",
    "        horizontal_flip=True,\n",
    "        fill_mode=\"nearest\",\n",
    "        validation_split=0.20)\n",
    "\n",
    "# create generators\n",
    "train_generator = image_gen.flow_from_directory(\n",
    "  src_path_train,\n",
    "  target_size=IMSIZE,\n",
    "  shuffle=True,\n",
    "  batch_size=batch_size,\n",
    ")\n",
    " \n",
    "test_generator = image_gen.flow_from_directory(\n",
    "  src_path_test,\n",
    "  target_size=IMSIZE,\n",
    "  shuffle=True,\n",
    "  batch_size=batch_size,\n",
    ")"
   ]
  },
  {
   "cell_type": "code",
   "execution_count": 11,
   "id": "89a34bd2",
   "metadata": {},
   "outputs": [],
   "source": [
    "from glob import glob\n",
    "train_image_files = glob(src_path_train + '/*/*.jp*g')\n",
    "test_image_files = glob(src_path_test + '/*/*.jp*g')\n",
    "len(train_image_files), len(test_image_files)\n",
    "import numpy as np \n",
    "import pandas as pd\n",
    "\n",
    "\n"
   ]
  },
  {
   "cell_type": "code",
   "execution_count": 12,
   "id": "629ae192",
   "metadata": {},
   "outputs": [
    {
     "data": {
      "text/plain": [
       "188"
      ]
     },
     "execution_count": 12,
     "metadata": {},
     "output_type": "execute_result"
    }
   ],
   "source": [
    "len(train_generator)"
   ]
  },
  {
   "cell_type": "code",
   "execution_count": 13,
   "id": "319e5f92",
   "metadata": {},
   "outputs": [
    {
     "data": {
      "text/plain": [
       "array([0, 0, 0, ..., 1, 1, 1])"
      ]
     },
     "execution_count": 13,
     "metadata": {},
     "output_type": "execute_result"
    }
   ],
   "source": [
    "train_generator.classes"
   ]
  },
  {
   "cell_type": "code",
   "execution_count": 14,
   "id": "11a014c2",
   "metadata": {},
   "outputs": [
    {
     "data": {
      "text/plain": [
       "5996"
      ]
     },
     "execution_count": 14,
     "metadata": {},
     "output_type": "execute_result"
    }
   ],
   "source": [
    "len(train_image_files)"
   ]
  },
  {
   "cell_type": "code",
   "execution_count": null,
   "id": "c4076551",
   "metadata": {},
   "outputs": [],
   "source": [
    "#indiquer le nombres de classes dans notre dataset (le nombre de sous-dossier dans le dossier de train et de test)"
   ]
  },
  {
   "cell_type": "code",
   "execution_count": 15,
   "id": "97ed60d9",
   "metadata": {},
   "outputs": [],
   "source": [
    "NBCLASSES = 2"
   ]
  },
  {
   "cell_type": "code",
   "execution_count": 10,
   "id": "f3e0a2f8",
   "metadata": {},
   "outputs": [
    {
     "name": "stdout",
     "output_type": "stream",
     "text": [
      "Model: \"model\"\n",
      "_________________________________________________________________\n",
      " Layer (type)                Output Shape              Param #   \n",
      "=================================================================\n",
      " input_1 (InputLayer)        [(None, 100, 100, 3)]     0         \n",
      "                                                                 \n",
      " block1_conv1 (Conv2D)       (None, 100, 100, 64)      1792      \n",
      "                                                                 \n",
      " block1_conv2 (Conv2D)       (None, 100, 100, 64)      36928     \n",
      "                                                                 \n",
      " block1_pool (MaxPooling2D)  (None, 50, 50, 64)        0         \n",
      "                                                                 \n",
      " block2_conv1 (Conv2D)       (None, 50, 50, 128)       73856     \n",
      "                                                                 \n",
      " block2_conv2 (Conv2D)       (None, 50, 50, 128)       147584    \n",
      "                                                                 \n",
      " block2_pool (MaxPooling2D)  (None, 25, 25, 128)       0         \n",
      "                                                                 \n",
      " block3_conv1 (Conv2D)       (None, 25, 25, 256)       295168    \n",
      "                                                                 \n",
      " block3_conv2 (Conv2D)       (None, 25, 25, 256)       590080    \n",
      "                                                                 \n",
      " block3_conv3 (Conv2D)       (None, 25, 25, 256)       590080    \n",
      "                                                                 \n",
      " block3_pool (MaxPooling2D)  (None, 12, 12, 256)       0         \n",
      "                                                                 \n",
      " block4_conv1 (Conv2D)       (None, 12, 12, 512)       1180160   \n",
      "                                                                 \n",
      " block4_conv2 (Conv2D)       (None, 12, 12, 512)       2359808   \n",
      "                                                                 \n",
      " block4_conv3 (Conv2D)       (None, 12, 12, 512)       2359808   \n",
      "                                                                 \n",
      " block4_pool (MaxPooling2D)  (None, 6, 6, 512)         0         \n",
      "                                                                 \n",
      " block5_conv1 (Conv2D)       (None, 6, 6, 512)         2359808   \n",
      "                                                                 \n",
      " block5_conv2 (Conv2D)       (None, 6, 6, 512)         2359808   \n",
      "                                                                 \n",
      " block5_conv3 (Conv2D)       (None, 6, 6, 512)         2359808   \n",
      "                                                                 \n",
      " block5_pool (MaxPooling2D)  (None, 3, 3, 512)         0         \n",
      "                                                                 \n",
      " flatten (Flatten)           (None, 4608)              0         \n",
      "                                                                 \n",
      " dense (Dense)               (None, 2)                 9218      \n",
      "                                                                 \n",
      "=================================================================\n",
      "Total params: 14,723,906\n",
      "Trainable params: 9,218\n",
      "Non-trainable params: 14,714,688\n",
      "_________________________________________________________________\n"
     ]
    }
   ],
   "source": [
    "def create_model():\n",
    "    vgg = VGG16(input_shape=IMSIZE + [3], weights='imagenet', include_top=False)\n",
    "\n",
    "    # Freeze existing VGG already trained weights\n",
    "    for layer in vgg.layers:\n",
    "        layer.trainable = False\n",
    "    \n",
    "    # get the VGG output\n",
    "    out = vgg.output\n",
    "    \n",
    "    # Add new dense layer at the end\n",
    "    x = Flatten()(out)\n",
    "    x = Dense(NBCLASSES, activation='softmax')(x)\n",
    "    \n",
    "    model = Model(inputs=vgg.input, outputs=x)\n",
    "    \n",
    "    model.compile(loss=\"binary_crossentropy\",\n",
    "                  optimizer=\"adam\",\n",
    "                  metrics=['accuracy'])\n",
    "    \n",
    "    model.summary()\n",
    "    \n",
    "    return model\n",
    "\n",
    "mymodel = create_model()"
   ]
  },
  {
   "cell_type": "code",
   "execution_count": 12,
   "id": "209f3d3a",
   "metadata": {},
   "outputs": [
    {
     "name": "stdout",
     "output_type": "stream",
     "text": [
      "Epoch 1/30\n",
      "188/188 [==============================] - 177s 938ms/step - loss: 0.1895 - accuracy: 0.9335\n",
      "Epoch 2/30\n",
      "188/188 [==============================] - 164s 872ms/step - loss: 0.1158 - accuracy: 0.9586\n",
      "Epoch 3/30\n",
      "188/188 [==============================] - 164s 872ms/step - loss: 0.1032 - accuracy: 0.9611\n",
      "Epoch 4/30\n",
      "188/188 [==============================] - 164s 871ms/step - loss: 0.0926 - accuracy: 0.9648\n",
      "Epoch 5/30\n",
      "188/188 [==============================] - 164s 870ms/step - loss: 0.0840 - accuracy: 0.9690\n",
      "Epoch 6/30\n",
      "188/188 [==============================] - 164s 871ms/step - loss: 0.0817 - accuracy: 0.9705\n",
      "Epoch 7/30\n",
      "188/188 [==============================] - 165s 875ms/step - loss: 0.0751 - accuracy: 0.9720\n",
      "Epoch 8/30\n",
      "188/188 [==============================] - 165s 876ms/step - loss: 0.0753 - accuracy: 0.9733\n",
      "Epoch 9/30\n",
      "188/188 [==============================] - 165s 875ms/step - loss: 0.0699 - accuracy: 0.9741\n",
      "Epoch 10/30\n",
      "188/188 [==============================] - 166s 884ms/step - loss: 0.0665 - accuracy: 0.9773\n",
      "Epoch 11/30\n",
      "188/188 [==============================] - 170s 901ms/step - loss: 0.0636 - accuracy: 0.9785\n",
      "Epoch 12/30\n",
      "188/188 [==============================] - 165s 879ms/step - loss: 0.0664 - accuracy: 0.9767\n",
      "Epoch 13/30\n",
      "188/188 [==============================] - 165s 876ms/step - loss: 0.0631 - accuracy: 0.9795\n",
      "Epoch 14/30\n",
      "188/188 [==============================] - 165s 878ms/step - loss: 0.0616 - accuracy: 0.9785\n",
      "Epoch 15/30\n",
      "188/188 [==============================] - 165s 876ms/step - loss: 0.0586 - accuracy: 0.9797\n",
      "Epoch 16/30\n",
      "188/188 [==============================] - 170s 905ms/step - loss: 0.0595 - accuracy: 0.9773\n",
      "Epoch 17/30\n",
      "188/188 [==============================] - 171s 909ms/step - loss: 0.0577 - accuracy: 0.9803\n",
      "Epoch 18/30\n",
      "188/188 [==============================] - 165s 879ms/step - loss: 0.0554 - accuracy: 0.9813\n",
      "Epoch 19/30\n",
      "188/188 [==============================] - 167s 885ms/step - loss: 0.0512 - accuracy: 0.9827\n",
      "Epoch 20/30\n",
      "188/188 [==============================] - 166s 882ms/step - loss: 0.0550 - accuracy: 0.9812\n",
      "Epoch 21/30\n",
      "188/188 [==============================] - 172s 917ms/step - loss: 0.0521 - accuracy: 0.9817\n",
      "Epoch 22/30\n",
      "188/188 [==============================] - 166s 883ms/step - loss: 0.0544 - accuracy: 0.9805\n",
      "Epoch 23/30\n",
      "188/188 [==============================] - 166s 884ms/step - loss: 0.0501 - accuracy: 0.9835\n",
      "Epoch 24/30\n",
      "188/188 [==============================] - 165s 877ms/step - loss: 0.0498 - accuracy: 0.9832\n",
      "Epoch 25/30\n",
      "188/188 [==============================] - 165s 875ms/step - loss: 0.0459 - accuracy: 0.9850\n",
      "Epoch 26/30\n",
      "188/188 [==============================] - 173s 917ms/step - loss: 0.0474 - accuracy: 0.9845\n",
      "Epoch 27/30\n",
      "188/188 [==============================] - 167s 885ms/step - loss: 0.0420 - accuracy: 0.9860\n",
      "Epoch 28/30\n",
      "188/188 [==============================] - 168s 894ms/step - loss: 0.0460 - accuracy: 0.9842\n",
      "Epoch 29/30\n",
      "188/188 [==============================] - 170s 904ms/step - loss: 0.0487 - accuracy: 0.9820\n",
      "Epoch 30/30\n",
      "188/188 [==============================] - 166s 884ms/step - loss: 0.0428 - accuracy: 0.9865\n"
     ]
    },
    {
     "data": {
      "text/plain": [
       "<keras.callbacks.History at 0x1e4308a1e50>"
      ]
     },
     "execution_count": 12,
     "metadata": {},
     "output_type": "execute_result"
    }
   ],
   "source": [
    "mymodel.fit(train_generator,epochs=30,batch_size=32)"
   ]
  },
  {
   "cell_type": "code",
   "execution_count": 13,
   "id": "aa00ab36",
   "metadata": {},
   "outputs": [
    {
     "name": "stdout",
     "output_type": "stream",
     "text": [
      "20/20 [==============================] - 22s 1s/step - loss: 0.0803 - accuracy: 0.9671\n",
      "Test loss: 0.08031278848648071\n",
      "Test accuracy: 0.9670846462249756\n"
     ]
    }
   ],
   "source": [
    "score = mymodel.evaluate(test_generator)\n",
    "print('Test loss:', score[0])\n",
    "print('Test accuracy:', score[1])"
   ]
  },
  {
   "cell_type": "code",
   "execution_count": null,
   "id": "43b98862",
   "metadata": {},
   "outputs": [],
   "source": [
    "#Sauvegarde su model"
   ]
  },
  {
   "cell_type": "code",
   "execution_count": 14,
   "id": "5ed863b9",
   "metadata": {},
   "outputs": [],
   "source": [
    "mymodel.save('CNN_doc_scientifique.h5')"
   ]
  },
  {
   "cell_type": "code",
   "execution_count": 16,
   "id": "9c821fc5",
   "metadata": {},
   "outputs": [],
   "source": [
    "mymodel=tf.keras.models.load_model('CNN_doc_scientifique.h5')"
   ]
  },
  {
   "cell_type": "code",
   "execution_count": null,
   "id": "025602b2",
   "metadata": {},
   "outputs": [],
   "source": []
  },
  {
   "cell_type": "code",
   "execution_count": null,
   "id": "7c433ffd",
   "metadata": {},
   "outputs": [],
   "source": []
  },
  {
   "cell_type": "code",
   "execution_count": null,
   "id": "110467d6",
   "metadata": {},
   "outputs": [],
   "source": [
    "# fonction pour mettre un nom sur l'image en fonction de la catégorie"
   ]
  },
  {
   "cell_type": "code",
   "execution_count": null,
   "id": "4b4702cb",
   "metadata": {},
   "outputs": [],
   "source": [
    "#\n",
    "#\n",
    "#Il est conseillé de basculer sur le bloc note 4 pour faire la prediction\n",
    "#\n",
    "#"
   ]
  },
  {
   "cell_type": "code",
   "execution_count": null,
   "id": "7e930c97",
   "metadata": {},
   "outputs": [],
   "source": [
    "#La suite du programme est pour interpreter la prediction (donne la catégorie)\n",
    "#Attention le code est basé sur 4 catégories à changer!!"
   ]
  },
  {
   "cell_type": "code",
   "execution_count": 17,
   "id": "b42b3e8c",
   "metadata": {},
   "outputs": [],
   "source": [
    "def labelisemonimage(nom_image):\n",
    "    image = tf.keras.utils.load_img(nom_image, target_size=(100, 100))\n",
    "    image = tf.keras.utils.img_to_array(image)\n",
    "    image = image.reshape((1, image.shape[0], image.shape[1], image.shape[2]))\n",
    "    image = preprocess_input(image)\n",
    "    prediction = mymodel.predict(image)\n",
    "    #print(prediction)\n",
    "    if (np.argmax(prediction)==0):\n",
    "        print(\"cat 0 image extraite d'un Journal  precision de :\" ,prediction[0,0]*100,\"%\")\n",
    "    elif (np.argmax(prediction)==1):\n",
    "        print(\"cat 1 image extraite d'un Magazine scientifique precision de :\" ,prediction[0,1]*100,\"%\")\n",
    "    elif (np.argmax(prediction)==2):\n",
    "        print(\"cat 2  image extraite d'une Documentation scientifique precision de :\" ,prediction[0,2]*100,\"%\")\n",
    "    elif (np.argmax(prediction)==3):\n",
    "        print(\"cat 3 logo de l'US air force avec % de :\" ,prediction[0,3]*100,\"%\")\n"
   ]
  },
  {
   "cell_type": "code",
   "execution_count": 18,
   "id": "4485ff35",
   "metadata": {},
   "outputs": [],
   "source": [
    "def labelisemonimage2(nom_image):\n",
    "    image = tf.keras.utils.load_img(nom_image, target_size=(100, 100))\n",
    "    image = tf.keras.utils.img_to_array(image)\n",
    "    image = image.reshape((1, image.shape[0], image.shape[1], image.shape[2]))\n",
    "    image = preprocess_input(image)\n",
    "    prediction = mymodel.predict(image,verbose=0)\n",
    "    return(np.argmax(prediction))"
   ]
  },
  {
   "cell_type": "code",
   "execution_count": 19,
   "id": "5199fa4e",
   "metadata": {},
   "outputs": [],
   "source": [
    "#labelisemonimage('marine2.jpg')"
   ]
  },
  {
   "cell_type": "code",
   "execution_count": 20,
   "id": "ba6e48c8",
   "metadata": {},
   "outputs": [],
   "source": [
    "#labelisemonimage('JPG prevision/micromachines-13-01593page14.jpg')"
   ]
  },
  {
   "cell_type": "code",
   "execution_count": null,
   "id": "fae6091e",
   "metadata": {},
   "outputs": [],
   "source": []
  },
  {
   "cell_type": "code",
   "execution_count": null,
   "id": "e966c574",
   "metadata": {},
   "outputs": [],
   "source": []
  },
  {
   "cell_type": "code",
   "execution_count": 21,
   "id": "f7bf6959",
   "metadata": {},
   "outputs": [],
   "source": [
    "dossier='JPG prevision'"
   ]
  },
  {
   "cell_type": "code",
   "execution_count": 22,
   "id": "2de80045",
   "metadata": {},
   "outputs": [],
   "source": [
    "from os import listdir\n",
    "from os.path import isfile, join\n",
    "fichiers = [f for f in listdir(dossier) if isfile(join(dossier, f))]"
   ]
  },
  {
   "cell_type": "code",
   "execution_count": 23,
   "id": "4bd35fd2",
   "metadata": {},
   "outputs": [],
   "source": [
    "#fichiers"
   ]
  },
  {
   "cell_type": "code",
   "execution_count": 24,
   "id": "ca2f757d",
   "metadata": {
    "scrolled": true
   },
   "outputs": [],
   "source": [
    "\n",
    "#for doc in fichiers:\n",
    "       #labelisemonimage(dossier+'/'+doc)"
   ]
  },
  {
   "cell_type": "code",
   "execution_count": null,
   "id": "ef83acc7",
   "metadata": {},
   "outputs": [],
   "source": []
  },
  {
   "cell_type": "code",
   "execution_count": 25,
   "id": "420b0ec8",
   "metadata": {},
   "outputs": [],
   "source": [
    "#prediction=mymodel.predict('JPG prevision/images.jpg')"
   ]
  },
  {
   "cell_type": "code",
   "execution_count": null,
   "id": "1cc6d3b6",
   "metadata": {},
   "outputs": [],
   "source": []
  },
  {
   "cell_type": "code",
   "execution_count": null,
   "id": "3ea8d929",
   "metadata": {},
   "outputs": [],
   "source": []
  },
  {
   "cell_type": "code",
   "execution_count": null,
   "id": "587584d8",
   "metadata": {},
   "outputs": [],
   "source": []
  },
  {
   "cell_type": "code",
   "execution_count": null,
   "id": "bc7d2857",
   "metadata": {},
   "outputs": [],
   "source": []
  },
  {
   "cell_type": "code",
   "execution_count": null,
   "id": "9e044f44",
   "metadata": {},
   "outputs": [],
   "source": []
  },
  {
   "cell_type": "code",
   "execution_count": 26,
   "id": "a9876f7e",
   "metadata": {},
   "outputs": [],
   "source": [
    "listedocument=[]\n",
    "result=0\n",
    "resultlabel=0\n",
    "listeresult=[]\n",
    "nb_page=-1\n",
    "\n",
    "nom_prem_document=fichiers[0].split('page',1)\n",
    "nom_prem_document[0]\n",
    "listedocument.append(nom_prem_document[0])\n",
    "for doc in fichiers:\n",
    "    nom_document=doc.split('page')[0]\n",
    "    resultlabel=labelisemonimage2(dossier+'/'+doc)\n",
    "    nb_page=nb_page+1\n",
    "    \n",
    "   \n",
    "    if nom_document!=listedocument[-1]:\n",
    "        #print (result)\n",
    "        #print (nb_page)\n",
    "        result=int(result)/(nb_page)\n",
    "\n",
    "        listeresult.append(result)\n",
    "        listedocument.append(nom_document)\n",
    "        result=resultlabel\n",
    "        result=resultlabel\n",
    "        nb_page=0\n",
    "    else :\n",
    "        result=result+resultlabel\n",
    "listeresult.append(result/nb_page)  \n",
    "    "
   ]
  },
  {
   "cell_type": "code",
   "execution_count": 27,
   "id": "b902ade2",
   "metadata": {},
   "outputs": [
    {
     "data": {
      "text/plain": [
       "['fichier10',\n",
       " 'fichier12',\n",
       " 'fichier13',\n",
       " 'fichier14',\n",
       " 'fichier1',\n",
       " 'fichier2',\n",
       " 'fichier3',\n",
       " 'fichier4',\n",
       " 'fichier5',\n",
       " 'fichier6',\n",
       " 'fichier7',\n",
       " 'fichier8']"
      ]
     },
     "execution_count": 27,
     "metadata": {},
     "output_type": "execute_result"
    }
   ],
   "source": [
    "listedocument"
   ]
  },
  {
   "cell_type": "code",
   "execution_count": 28,
   "id": "88c4d110",
   "metadata": {},
   "outputs": [
    {
     "data": {
      "text/plain": [
       "[0.5,\n",
       " 0.14285714285714285,\n",
       " 0.7692307692307693,\n",
       " 0.6666666666666666,\n",
       " 0.7816901408450704,\n",
       " 0.058823529411764705,\n",
       " 0.14285714285714285,\n",
       " 0.46875,\n",
       " 0.8279569892473119,\n",
       " 0.75,\n",
       " 0.9436619718309859,\n",
       " 0.6666666666666666]"
      ]
     },
     "execution_count": 28,
     "metadata": {},
     "output_type": "execute_result"
    }
   ],
   "source": [
    "listeresult"
   ]
  },
  {
   "cell_type": "code",
   "execution_count": 29,
   "id": "6ddf10f4",
   "metadata": {},
   "outputs": [
    {
     "name": "stdout",
     "output_type": "stream",
     "text": [
      "Le fichier10 est un pdf sans interet probabilité de : 50.0 %\n",
      "Le fichier12 est un pdf sans interet probabilité de : 85.71428571428572 %\n",
      "Le fichier13 est un Doc Scientifique probabilité de : 76.92307692307693 %\n",
      "Le fichier14 est un Doc Scientifique probabilité de : 66.66666666666666 %\n",
      "Le fichier1 est un Doc Scientifique probabilité de : 78.16901408450704 %\n",
      "Le fichier2 est un pdf sans interet probabilité de : 94.11764705882352 %\n",
      "Le fichier3 est un pdf sans interet probabilité de : 85.71428571428572 %\n",
      "Le fichier4 est un pdf sans interet probabilité de : 53.125 %\n",
      "Le fichier5 est un Doc Scientifique probabilité de : 82.79569892473118 %\n",
      "Le fichier6 est un Doc Scientifique probabilité de : 75.0 %\n",
      "Le fichier7 est un Doc Scientifique probabilité de : 94.36619718309859 %\n",
      "Le fichier8 est un Doc Scientifique probabilité de : 66.66666666666666 %\n"
     ]
    }
   ],
   "source": [
    "i=0\n",
    "for doc in listedocument:\n",
    "    if listeresult[i]>0.5:\n",
    "        res='Doc Scientifique'\n",
    "        proba=listeresult[i]*100\n",
    "    else:\n",
    "        res=\"pdf sans interet\"\n",
    "        proba=(1-listeresult[i])*100\n",
    "    print(\"Le \"+doc+\" est un \"+res+\" probabilité de : \"+str(proba)+\" %\")\n",
    "    i=i+1"
   ]
  },
  {
   "cell_type": "code",
   "execution_count": 30,
   "id": "ca03ff02",
   "metadata": {},
   "outputs": [],
   "source": [
    "#vide le dossier telechargement PDF\n",
    "#vide le dossier JPG prevision"
   ]
  },
  {
   "cell_type": "code",
   "execution_count": null,
   "id": "c53aac30",
   "metadata": {},
   "outputs": [],
   "source": []
  },
  {
   "cell_type": "code",
   "execution_count": null,
   "id": "d1084d39",
   "metadata": {},
   "outputs": [],
   "source": []
  },
  {
   "cell_type": "code",
   "execution_count": null,
   "id": "f9e9b9f3",
   "metadata": {},
   "outputs": [],
   "source": []
  },
  {
   "cell_type": "code",
   "execution_count": null,
   "id": "5b9668ff",
   "metadata": {},
   "outputs": [],
   "source": []
  }
 ],
 "metadata": {
  "kernelspec": {
   "display_name": "Python 3 (ipykernel)",
   "language": "python",
   "name": "python3"
  },
  "language_info": {
   "codemirror_mode": {
    "name": "ipython",
    "version": 3
   },
   "file_extension": ".py",
   "mimetype": "text/x-python",
   "name": "python",
   "nbconvert_exporter": "python",
   "pygments_lexer": "ipython3",
   "version": "3.9.12"
  }
 },
 "nbformat": 4,
 "nbformat_minor": 5
}
